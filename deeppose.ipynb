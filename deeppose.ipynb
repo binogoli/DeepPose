{
 "cells": [
  {
   "cell_type": "code",
   "execution_count": 26,
   "metadata": {
    "id": "U2paGgiDu-88"
   },
   "outputs": [
    {
     "name": "stdout",
     "output_type": "stream",
     "text": [
      "Requirement already satisfied: ConfigArgParse in d:\\software\\anaconda3\\lib\\site-packages (1.5.3)\n",
      "Requirement already satisfied: progress in d:\\software\\anaconda3\\lib\\site-packages (1.6)\n"
     ]
    }
   ],
   "source": [
    "!pip install ConfigArgParse\n",
    "!pip install progress"
   ]
  },
  {
   "cell_type": "code",
   "execution_count": 3,
   "metadata": {
    "id": "P-6tM6mItqIo"
   },
   "outputs": [
    {
     "name": "stderr",
     "output_type": "stream",
     "text": [
      "fatal: destination path 'Pytorch-Human-Pose-Estimation' already exists and is not an empty directory.\n"
     ]
    }
   ],
   "source": [
    "!git clone https://github.com/Rabbit314271/Pytorch-Human-Pose-Estimation.git"
   ]
  },
  {
   "cell_type": "code",
   "execution_count": 12,
   "metadata": {
    "colab": {
     "base_uri": "https://localhost:8080/"
    },
    "id": "71oC3zSEgB2w",
    "outputId": "a3fbf1c7-95f3-48b0-f176-8a2cd7d21771"
   },
   "outputs": [
    {
     "name": "stdout",
     "output_type": "stream",
     "text": [
      "Collecting pytorch"
     ]
    },
    {
     "name": "stderr",
     "output_type": "stream",
     "text": [
      "  ERROR: Command errored out with exit status 1:\n",
      "   command: 'D:\\software\\Anaconda3\\python.exe' -u -c 'import sys, setuptools, tokenize; sys.argv[0] = '\"'\"'C:\\\\Users\\\\bingo\\\\AppData\\\\Local\\\\Temp\\\\pip-install-zntzzkda\\\\pytorch_7ea226dfd0ef445fbb9cd7760ca70e5f\\\\setup.py'\"'\"'; __file__='\"'\"'C:\\\\Users\\\\bingo\\\\AppData\\\\Local\\\\Temp\\\\pip-install-zntzzkda\\\\pytorch_7ea226dfd0ef445fbb9cd7760ca70e5f\\\\setup.py'\"'\"';f=getattr(tokenize, '\"'\"'open'\"'\"', open)(__file__);code=f.read().replace('\"'\"'\\r\\n'\"'\"', '\"'\"'\\n'\"'\"');f.close();exec(compile(code, __file__, '\"'\"'exec'\"'\"'))' bdist_wheel -d 'C:\\Users\\bingo\\AppData\\Local\\Temp\\pip-wheel-acnbgeq4'\n",
      "       cwd: C:\\Users\\bingo\\AppData\\Local\\Temp\\pip-install-zntzzkda\\pytorch_7ea226dfd0ef445fbb9cd7760ca70e5f\\\n",
      "  Complete output (5 lines):\n",
      "  Traceback (most recent call last):\n",
      "    File \"<string>\", line 1, in <module>\n",
      "    File \"C:\\Users\\bingo\\AppData\\Local\\Temp\\pip-install-zntzzkda\\pytorch_7ea226dfd0ef445fbb9cd7760ca70e5f\\setup.py\", line 15, in <module>\n",
      "      raise Exception(message)\n",
      "  Exception: You tried to install \"pytorch\". The package named for PyTorch is \"torch\"\n",
      "  ----------------------------------------\n",
      "  ERROR: Failed building wheel for pytorch\n",
      "    ERROR: Command errored out with exit status 1:\n",
      "     command: 'D:\\software\\Anaconda3\\python.exe' -u -c 'import sys, setuptools, tokenize; sys.argv[0] = '\"'\"'C:\\\\Users\\\\bingo\\\\AppData\\\\Local\\\\Temp\\\\pip-install-zntzzkda\\\\pytorch_7ea226dfd0ef445fbb9cd7760ca70e5f\\\\setup.py'\"'\"'; __file__='\"'\"'C:\\\\Users\\\\bingo\\\\AppData\\\\Local\\\\Temp\\\\pip-install-zntzzkda\\\\pytorch_7ea226dfd0ef445fbb9cd7760ca70e5f\\\\setup.py'\"'\"';f=getattr(tokenize, '\"'\"'open'\"'\"', open)(__file__);code=f.read().replace('\"'\"'\\r\\n'\"'\"', '\"'\"'\\n'\"'\"');f.close();exec(compile(code, __file__, '\"'\"'exec'\"'\"'))' install --record 'C:\\Users\\bingo\\AppData\\Local\\Temp\\pip-record-9c4oe_0g\\install-record.txt' --single-version-externally-managed --compile --install-headers 'D:\\software\\Anaconda3\\Include\\pytorch'\n",
      "         cwd: C:\\Users\\bingo\\AppData\\Local\\Temp\\pip-install-zntzzkda\\pytorch_7ea226dfd0ef445fbb9cd7760ca70e5f\\\n",
      "    Complete output (5 lines):\n",
      "    Traceback (most recent call last):\n",
      "      File \"<string>\", line 1, in <module>\n",
      "      File \"C:\\Users\\bingo\\AppData\\Local\\Temp\\pip-install-zntzzkda\\pytorch_7ea226dfd0ef445fbb9cd7760ca70e5f\\setup.py\", line 11, in <module>\n",
      "        raise Exception(message)\n",
      "    Exception: You tried to install \"pytorch\". The package named for PyTorch is \"torch\"\n",
      "    ----------------------------------------\n",
      "ERROR: Command errored out with exit status 1: 'D:\\software\\Anaconda3\\python.exe' -u -c 'import sys, setuptools, tokenize; sys.argv[0] = '\"'\"'C:\\\\Users\\\\bingo\\\\AppData\\\\Local\\\\Temp\\\\pip-install-zntzzkda\\\\pytorch_7ea226dfd0ef445fbb9cd7760ca70e5f\\\\setup.py'\"'\"'; __file__='\"'\"'C:\\\\Users\\\\bingo\\\\AppData\\\\Local\\\\Temp\\\\pip-install-zntzzkda\\\\pytorch_7ea226dfd0ef445fbb9cd7760ca70e5f\\\\setup.py'\"'\"';f=getattr(tokenize, '\"'\"'open'\"'\"', open)(__file__);code=f.read().replace('\"'\"'\\r\\n'\"'\"', '\"'\"'\\n'\"'\"');f.close();exec(compile(code, __file__, '\"'\"'exec'\"'\"'))' install --record 'C:\\Users\\bingo\\AppData\\Local\\Temp\\pip-record-9c4oe_0g\\install-record.txt' --single-version-externally-managed --compile --install-headers 'D:\\software\\Anaconda3\\Include\\pytorch' Check the logs for full command output.\n"
     ]
    },
    {
     "name": "stdout",
     "output_type": "stream",
     "text": [
      "\n",
      "  Using cached pytorch-1.0.2.tar.gz (689 bytes)\n",
      "Requirement already satisfied: torchvision in d:\\software\\anaconda3\\lib\\site-packages (from -r requirements.txt (line 2)) (0.11.1)\n",
      "Requirement already satisfied: scipy in d:\\software\\anaconda3\\lib\\site-packages (from -r requirements.txt (line 3)) (1.6.2)\n",
      "Requirement already satisfied: configargparse in d:\\software\\anaconda3\\lib\\site-packages (from -r requirements.txt (line 4)) (1.5.3)\n",
      "Requirement already satisfied: progress in d:\\software\\anaconda3\\lib\\site-packages (from -r requirements.txt (line 5)) (1.6)\n",
      "Collecting json_tricks\n",
      "  Using cached json_tricks-3.15.5-py2.py3-none-any.whl (26 kB)\n",
      "Requirement already satisfied: Cython in d:\\software\\anaconda3\\lib\\site-packages (from -r requirements.txt (line 7)) (0.29.23)\n",
      "Requirement already satisfied: numpy<1.23.0,>=1.16.5 in d:\\software\\anaconda3\\lib\\site-packages (from scipy->-r requirements.txt (line 3)) (1.20.1)\n",
      "Requirement already satisfied: torch==1.10.0 in d:\\software\\anaconda3\\lib\\site-packages (from torchvision->-r requirements.txt (line 2)) (1.10.0)\n",
      "Requirement already satisfied: pillow!=8.3.0,>=5.3.0 in d:\\software\\anaconda3\\lib\\site-packages (from torchvision->-r requirements.txt (line 2)) (9.0.1)\n",
      "Requirement already satisfied: typing-extensions in d:\\software\\anaconda3\\lib\\site-packages (from torch==1.10.0->torchvision->-r requirements.txt (line 2)) (3.7.4.3)\n",
      "Building wheels for collected packages: pytorch\n",
      "  Building wheel for pytorch (setup.py): started\n",
      "  Building wheel for pytorch (setup.py): finished with status 'error'\n",
      "  Running setup.py clean for pytorch\n",
      "Failed to build pytorch\n",
      "Installing collected packages: pytorch, json-tricks\n",
      "    Running setup.py install for pytorch: started\n",
      "    Running setup.py install for pytorch: finished with status 'error'\n"
     ]
    }
   ],
   "source": [
    "!cd content/Pytorch-Human-Pose-Estimation&&pip install -r requirements.txt"
   ]
  },
  {
   "cell_type": "code",
   "execution_count": 24,
   "metadata": {
    "colab": {
     "base_uri": "https://localhost:8080/"
    },
    "id": "eK-EhShKH2BT",
    "outputId": "9cf74854-63cc-48ad-af04-b001317feca5"
   },
   "outputs": [
    {
     "name": "stderr",
     "output_type": "stream",
     "text": [
      "fatal: destination path 'human-pose-estimation.pytorch' already exists and is not an empty directory.\n"
     ]
    }
   ],
   "source": [
    "!git clone https://github.com/Rabbit314271/human-pose-estimation.pytorch.git"
   ]
  },
  {
   "cell_type": "code",
   "execution_count": 13,
   "metadata": {
    "colab": {
     "base_uri": "https://localhost:8080/"
    },
    "id": "XmC1FbHkISZd",
    "outputId": "ebca52cf-bfd9-4c07-e0c9-f3d2f2507ca4"
   },
   "outputs": [
    {
     "name": "stdout",
     "output_type": "stream",
     "text": [
      "Collecting EasyDict==1.7\n",
      "  Downloading easydict-1.7.tar.gz (6.2 kB)\n"
     ]
    },
    {
     "name": "stderr",
     "output_type": "stream",
     "text": [
      "ERROR: Could not find a version that satisfies the requirement opencv-python==3.4.2.17\n",
      "ERROR: No matching distribution found for opencv-python==3.4.2.17\n"
     ]
    }
   ],
   "source": [
    "!cd content/human-pose-estimation.pytorch&&pip install -r requirements.txt"
   ]
  },
  {
   "cell_type": "code",
   "execution_count": 1,
   "metadata": {
    "colab": {
     "base_uri": "https://localhost:8080/"
    },
    "id": "kbjMCTI4Ifut",
    "outputId": "cfd074ea-eaca-4f01-ca71-5d7170ffb3ed"
   },
   "outputs": [
    {
     "name": "stdout",
     "output_type": "stream",
     "text": [
      "cd nms; python setup.py build_ext --inplace; rm -rf build; cd ../../\n"
     ]
    }
   ],
   "source": [
    "!cd content/human-pose-estimation.pytorch/lib && make"
   ]
  },
  {
   "cell_type": "code",
   "execution_count": 5,
   "metadata": {
    "colab": {
     "base_uri": "https://localhost:8080/"
    },
    "id": "j59Y1UzrLabS",
    "outputId": "6498b7ab-54dd-4367-8692-91d134a41a3d"
   },
   "outputs": [
    {
     "name": "stderr",
     "output_type": "stream",
     "text": [
      "Cloning into 'cocoapi'...\n"
     ]
    }
   ],
   "source": [
    "# COCOAPI=/path/to/clone/cocoapi\n",
    "!git clone https://github.com/cocodataset/cocoapi.git"
   ]
  },
  {
   "cell_type": "code",
   "execution_count": 11,
   "metadata": {
    "colab": {
     "base_uri": "https://localhost:8080/"
    },
    "id": "jb13HRCeLymk",
    "outputId": "a795626c-51b1-405b-ccc3-feacff69007b"
   },
   "outputs": [
    {
     "name": "stdout",
     "output_type": "stream",
     "text": [
      "python setup.py build_ext install\n",
      "running build_ext\n",
      "cythoning pycocotools/_mask.pyx to pycocotools\\_mask.c\n",
      "building 'pycocotools._mask' extension\n",
      "creating build\n",
      "creating build\\temp.win-amd64-3.8\n",
      "creating build\\temp.win-amd64-3.8\\common\n",
      "creating build\\temp.win-amd64-3.8\\Release\n",
      "creating build\\temp.win-amd64-3.8\\Release\\pycocotools\n",
      "D:\\software\\Vs2019\\VC\\Tools\\MSVC\\14.29.30133\\bin\\HostX86\\x64\\cl.exe /c /nologo /Ox /W3 /GL /DNDEBUG /MD -ID:\\software\\Anaconda3\\lib\\site-packages\\numpy\\core\\include -I../common -ID:\\software\\Anaconda3\\include -ID:\\software\\Anaconda3\\include -ID:\\software\\Vs2019\\VC\\Tools\\MSVC\\14.29.30133\\ATLMFC\\include -ID:\\software\\Vs2019\\VC\\Tools\\MSVC\\14.29.30133\\include \"-IC:\\Program Files (x86)\\Windows Kits\\NETFXSDK\\4.8\\include\\um\" \"-ID:\\Windows Kits\\10\\include\\10.0.19041.0\\ucrt\" \"-ID:\\Windows Kits\\10\\include\\10.0.19041.0\\shared\" \"-ID:\\Windows Kits\\10\\include\\10.0.19041.0\\um\" \"-ID:\\Windows Kits\\10\\include\\10.0.19041.0\\winrt\" \"-ID:\\Windows Kits\\10\\include\\10.0.19041.0\\cppwinrt\" /Tc../common/maskApi.c /Fobuild\\temp.win-amd64-3.8\\Release\\../common/maskApi.obj -Wno-cpp -Wno-unused-function -std=c99\n",
      "Makefile:7: recipe for target 'install' failed\n"
     ]
    },
    {
     "name": "stderr",
     "output_type": "stream",
     "text": [
      "cl: 命令行 error D8021 :无效的数值参数“/Wno-cpp”\n",
      "D:\\software\\Anaconda3\\lib\\site-packages\\Cython\\Compiler\\Main.py:369: FutureWarning: Cython directive 'language_level' not set, using 2 for now (Py2). This will change in a later release! File: C:\\Users\\bingo\\content\\cocoapi\\PythonAPI\\pycocotools\\_mask.pyx\n",
      "  tree = Parsing.p_module(s, pxd, full_module_name)\n",
      "error: command 'D:\\\\software\\\\Vs2019\\\\VC\\\\Tools\\\\MSVC\\\\14.29.30133\\\\bin\\\\HostX86\\\\x64\\\\cl.exe' failed with exit status 2\n",
      "make: *** [install] Error 1\n"
     ]
    }
   ],
   "source": [
    "\n",
    "# Install into global site-packages\n",
    "!cd content/cocoapi/PythonAPI&&make install\n",
    "# Alternatively, if you do not have permissions or prefer\n",
    "# not to install the COCO API into global site-packages\n",
    "#!cd content/cocoapi/PythonAPI && python3 setup.py install --user"
   ]
  },
  {
   "cell_type": "code",
   "execution_count": 25,
   "metadata": {
    "id": "P_KTxZhmNpcX"
   },
   "outputs": [
    {
     "name": "stderr",
     "output_type": "stream",
     "text": [
      "子目录或文件 coco 已经存在。\n",
      "子目录或文件 data 已经存在。\n"
     ]
    }
   ],
   "source": [
    "#创建必要的文件夹\n",
    "!md coco\n",
    "!cd coco&&md data\n",
    "!cd coco&&cd data&&md coco\n",
    "!cd coco&&cd data&&cd coco&&md person_detection_results\n",
    "!cd coco&&cd data&&cd coco&&md image\n",
    "!cd coco&&cd data&&cd coco&&md annotations"
   ]
  },
  {
   "cell_type": "code",
   "execution_count": 26,
   "metadata": {
    "colab": {
     "base_uri": "https://localhost:8080/"
    },
    "id": "hTlnncunOHZI",
    "outputId": "59d6a56e-0281-43fe-8cf2-8cb0c0796a37"
   },
   "outputs": [],
   "source": [
    "!mshta http://images.cocodataset.org/zips/train2017.zip"
   ]
  },
  {
   "cell_type": "code",
   "execution_count": 4,
   "metadata": {
    "colab": {
     "base_uri": "https://localhost:8080/"
    },
    "id": "0JLEvTNDPM6P",
    "outputId": "96652d86-4ced-45be-ccb2-99ff973eb4d0"
   },
   "outputs": [
    {
     "name": "stdout",
     "output_type": "stream",
     "text": [
      "\n",
      "7-Zip 19.00 (x64) : Copyright (c) 1999-2018 Igor Pavlov : 2019-02-21\n",
      "\n"
     ]
    },
    {
     "name": "stderr",
     "output_type": "stream",
     "text": [
      "\n",
      "\n",
      "Command Line Error:\n",
      "Unsupported command:\n",
      "/content/coco/data/coco/images/\n"
     ]
    }
   ],
   "source": [
    "!7z.exe x ./train2017.zip -so\n",
    "!7z.exe /content/coco/data/coco/images/ ./train2017.zip"
   ]
  },
  {
   "cell_type": "code",
   "execution_count": 15,
   "metadata": {
    "colab": {
     "base_uri": "https://localhost:8080/"
    },
    "id": "Is4x-704OtVA",
    "outputId": "54e4b546-fe30-41c3-f2de-252153bc0038"
   },
   "outputs": [
    {
     "name": "stderr",
     "output_type": "stream",
     "text": [
      "'wget' 不是内部或外部命令，也不是可运行的程序\n",
      "或批处理文件。\n",
      "'unzip' 不是内部或外部命令，也不是可运行的程序\n",
      "或批处理文件。\n"
     ]
    }
   ],
   "source": [
    "!wget http://images.cocodataset.org/zips/val2017.zip\n",
    "!unzip -d /content/coco/data/coco/images/ ./val2017.zip"
   ]
  },
  {
   "cell_type": "code",
   "execution_count": 16,
   "metadata": {
    "colab": {
     "base_uri": "https://localhost:8080/"
    },
    "id": "t0KVsZrsljft",
    "outputId": "ea146762-0357-4e20-d990-1db366c40304"
   },
   "outputs": [
    {
     "name": "stderr",
     "output_type": "stream",
     "text": [
      "'wget' 不是内部或外部命令，也不是可运行的程序\n",
      "或批处理文件。\n",
      "'unzip' 不是内部或外部命令，也不是可运行的程序\n",
      "或批处理文件。\n"
     ]
    }
   ],
   "source": [
    "#获得annotation\n",
    "!wget http://images.cocodataset.org/annotations/annotations_trainval2017.zip\n",
    "!unzip -d //content/coco/data/coco ./annotations_trainval2017.zip"
   ]
  },
  {
   "cell_type": "code",
   "execution_count": 17,
   "metadata": {
    "id": "QnEOWxdnmC8l"
   },
   "outputs": [
    {
     "name": "stderr",
     "output_type": "stream",
     "text": [
      "'cp' 不是内部或外部命令，也不是可运行的程序\n",
      "或批处理文件。\n",
      "'cp' 不是内部或外部命令，也不是可运行的程序\n",
      "或批处理文件。\n",
      "命令语法不正确。\n"
     ]
    }
   ],
   "source": [
    "#进行这一步前请装载你的google drive，并且将https://drive.google.com/drive/folders/1Wy5oq9ac1tTgGy67wR1Uu8djSDnf0pOL 内的文件放到google drive中的coco文件夹下。\n",
    "!cp -r /content/drive/MyDrive/coco/COCO_test-dev2017_detections_AP_H_609_person.json /content/coco/data/coco/person_detection_results\n",
    "!cp -r /content/drive/MyDrive/coco/COCO_val2017_detections_AP_H_56_person.json /content/coco/data/coco/person_detection_results\n",
    "!mkdir /content/Pytorch-Human-Pose-Estimation/trained_models"
   ]
  },
  {
   "cell_type": "code",
   "execution_count": 18,
   "metadata": {
    "colab": {
     "base_uri": "https://localhost:8080/"
    },
    "id": "ZE5sdC6jfHy0",
    "outputId": "080cfbce-3cfb-4888-b739-4619b4cef8d3"
   },
   "outputs": [
    {
     "name": "stderr",
     "output_type": "stream",
     "text": [
      "系统找不到指定的路径。\n"
     ]
    }
   ],
   "source": [
    "!cd ./content/Pytorch-Human-Pose-Estimation&&python main.py -DataConfig ./conf/datasets/coco.defconf -ModelConfig ./conf/models/DeepPose.defconf"
   ]
  },
  {
   "cell_type": "code",
   "execution_count": null,
   "metadata": {
    "id": "RN3q7ZisnuSa"
   },
   "outputs": [],
   "source": []
  },
  {
   "cell_type": "code",
   "execution_count": null,
   "metadata": {},
   "outputs": [],
   "source": []
  }
 ],
 "metadata": {
  "accelerator": "GPU",
  "colab": {
   "collapsed_sections": [],
   "name": "deeppose.ipynb",
   "provenance": []
  },
  "kernelspec": {
   "display_name": "Python 3 (ipykernel)",
   "language": "python",
   "name": "python3"
  },
  "language_info": {
   "codemirror_mode": {
    "name": "ipython",
    "version": 3
   },
   "file_extension": ".py",
   "mimetype": "text/x-python",
   "name": "python",
   "nbconvert_exporter": "python",
   "pygments_lexer": "ipython3",
   "version": "3.8.8"
  }
 },
 "nbformat": 4,
 "nbformat_minor": 4
}
